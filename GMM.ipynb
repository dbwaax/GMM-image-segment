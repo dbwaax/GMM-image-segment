{
 "cells": [
  {
   "cell_type": "code",
   "execution_count": 4,
   "source": [
    "import numpy as np\r\n",
    "import cv2\r\n",
    "import torch\r\n",
    "import math\r\n",
    "import matplotlib.pyplot as plt\r\n",
    "from tqdm import tqdm\r\n",
    "import cupy as cp\r\n",
    "import time\r\n",
    "import multiprocessing as mp"
   ],
   "outputs": [],
   "metadata": {}
  },
  {
   "cell_type": "code",
   "execution_count": 10,
   "source": [
    "np.random.seed(66)\r\n",
    "class GMM():\r\n",
    "    def __init__(self,data,k,device,iter_times=10,eps=1e-6,n=8) -> None:\r\n",
    "        self.data = data\r\n",
    "        self.eps = eps\r\n",
    "        self.k = k \r\n",
    "        self.n = n\r\n",
    "        self.device = device\r\n",
    "        self.per_data_nums,self.per_data_dim,self.channel = data.shape\r\n",
    "        self.points = data.reshape((self.per_data_nums*self.per_data_dim,self.channel)).astype(float)\r\n",
    "\r\n",
    "        self.iter_times = iter_times\r\n",
    "        self.means = np.random.rand(self.k,self.channel)\r\n",
    "        self.vars =  np.random.rand(self.k,self.channel,self.channel)\r\n",
    "        self.alpha = np.random.rand(self.k)\r\n",
    "    def Muti_Gaussian_Density_Function(self,dt,mean,vars):\r\n",
    "        n = len(dt)\r\n",
    "        div = (2 * np.pi) ** (n / 2) * (abs(np.linalg.det(vars)) ** 0.5)\r\n",
    "        expOn = -0.5 * ( np.dot( (dt - mean).T,  np.dot(np.linalg.inv(vars), (dt - mean)) ) )     \r\n",
    "        return np.exp(expOn) / div\r\n",
    "    def Caculate_Gussian_Density(self,res):\r\n",
    "        data = res[0]\r\n",
    "        mat = res[1]\r\n",
    "        for j,x in enumerate(data):\r\n",
    "            temp , tempP = 0 , 0\r\n",
    "            for i in range(self.k):\r\n",
    "                tempP = self.Muti_Gaussian_Density_Function(x,self.means[i],self.vars[i])\r\n",
    "                temp += tempP \r\n",
    "                mat[j][i] = self.alpha[i] * tempP\r\n",
    "            mat[j] /= temp\r\n",
    "        return mat\r\n",
    "    def Data_Split(self,n):\r\n",
    "        lens = len(self.points)\r\n",
    "        part_nums = math.floor(lens / n)\r\n",
    "        left_nums = lens % n\r\n",
    "        split_array = []\r\n",
    "        for j in range(n):\r\n",
    "            if(j == n-1):\r\n",
    "                split_array.append([j*part_nums,j*part_nums+part_nums+left_nums-1])\r\n",
    "            else:\r\n",
    "                split_array.append([j*part_nums,j*part_nums+part_nums])\r\n",
    "        return split_array\r\n",
    "    def fit(self):\r\n",
    "        # EM algorithm\r\n",
    "        # E-step\r\n",
    "        mat = np.zeros((len(self.points),self.k))\r\n",
    "        for iter in tqdm(range(self.iter_times)):\r\n",
    "            pool = mp.Pool(processes=self.n)\r\n",
    "            start = time.time()\r\n",
    "            split_array = self.Data_Split(self.n)\r\n",
    "            data_list = []\r\n",
    "            for mm in split_array:\r\n",
    "                dict1 =  {0:self.points[mm[0]:mm[1],:] , 1:mat[mm[0]:mm[1],:]}\r\n",
    "                data_list.append(dict1)\r\n",
    "            res = pool.map(self.Caculate_Gussian_Density,data_list)\r\n",
    "            for t in range(len(split_array)):\r\n",
    "                mm = split_array[t]\r\n",
    "                mat[mm[0]:mm[1],:] = res[t]\r\n",
    "            pool.close()\r\n",
    "            pool.join()\r\n",
    "            end = time.time()\r\n",
    "            print('step1 cost:{:.3f}s'.format(end-start))\r\n",
    "            start = time.time()\r\n",
    "            for i in range(self.k):\r\n",
    "                # updata means\r\n",
    "                self.means[i] = np.dot(mat[:,i].T,self.points) / np.sum(mat[:,i])\r\n",
    "\r\n",
    "                # updata vars\r\n",
    "                temp = np.zeros(self.vars[0].shape)\r\n",
    "                for j in range(self.per_data_nums * self.per_data_dim):\r\n",
    "                    data = (self.points[j] - self.means[i]).reshape(3,1)\r\n",
    "                    temp += mat[j][i] * np.dot(data, data.T)\r\n",
    "                temp /= np.sum(mat[:, i])\r\n",
    "                self.vars[i] = temp \r\n",
    "                self.alpha[i] = np.sum(mat[:, i]) / len(self.points)\r\n",
    "            end = time.time()\r\n",
    "            print('step2 cost:{:.3f}s'.format(end-start))\r\n",
    "        # clustering\r\n",
    "        Ans = cp.zeros(len(self.points))\r\n",
    "        for j, x in enumerate(self.points):\r\n",
    "            temp, tempP = 0, 0\r\n",
    "            for i in range(self.k):\r\n",
    "                tempP = self.Muti_Gaussian_Density_Function(x, self.means[i], self.vars[i])\r\n",
    "                temp += tempP\r\n",
    "                mat[j][i] = self.alpha[i] * tempP\r\n",
    "            mat[j] /= temp\r\n",
    "            Ans[j] = np.argmax(mat[j])\r\n",
    "        labels = np.zeros((self.per_data_nums,self.per_data_dim))\r\n",
    "        for i in range(self.per_data_nums * self.per_data_dim):\r\n",
    "            idx1 = math.floor(i / self.per_data_nums)\r\n",
    "            idx2 = i % self.per_data_nums\r\n",
    "            labels[idx1,idx2] = Ans[i]\r\n",
    "\r\n",
    "        return labels"
   ],
   "outputs": [],
   "metadata": {
    "scrolled": true,
    "tags": []
   }
  },
  {
   "cell_type": "code",
   "execution_count": 12,
   "source": [
    "device = torch.device('cuda')\r\n",
    "img = cv2.imread(r'./8068.jpg')\r\n",
    "img = cv2.resize(img ,(224 ,224)) / 255.\r\n",
    "# img = torch.tensor(img,dtype=torch.float).to(device)\r\n",
    "model = GMM(img,2,device)\r\n",
    "label = model.fit()\r\n",
    "plt.imshow(label)\r\n",
    "plt.savefig('./out.jpg')"
   ],
   "outputs": [
    {
     "output_type": "stream",
     "name": "stderr",
     "text": [
      "  0%|                                                                                                                                                           | 0/10 [00:00<?, ?it/s]"
     ]
    },
    {
     "output_type": "stream",
     "name": "stdout",
     "text": [
      "step1 cost:1.012s\n"
     ]
    },
    {
     "output_type": "stream",
     "name": "stderr",
     "text": [
      " 10%|██████████████▋                                                                                                                                    | 1/10 [00:02<00:19,  2.22s/it]"
     ]
    },
    {
     "output_type": "stream",
     "name": "stdout",
     "text": [
      "step2 cost:0.829s\n",
      "step1 cost:0.812s\n"
     ]
    },
    {
     "output_type": "stream",
     "name": "stderr",
     "text": [
      " 20%|█████████████████████████████▍                                                                                                                     | 2/10 [00:04<00:16,  2.10s/it]"
     ]
    },
    {
     "output_type": "stream",
     "name": "stdout",
     "text": [
      "step2 cost:0.873s\n",
      "step1 cost:0.766s\n"
     ]
    },
    {
     "output_type": "stream",
     "name": "stderr",
     "text": [
      " 30%|████████████████████████████████████████████                                                                                                       | 3/10 [00:06<00:14,  2.13s/it]"
     ]
    },
    {
     "output_type": "stream",
     "name": "stdout",
     "text": [
      "step2 cost:1.066s\n",
      "step1 cost:0.846s\n"
     ]
    },
    {
     "output_type": "stream",
     "name": "stderr",
     "text": [
      " 40%|██████████████████████████████████████████████████████████▊                                                                                        | 4/10 [00:08<00:12,  2.06s/it]"
     ]
    },
    {
     "output_type": "stream",
     "name": "stdout",
     "text": [
      "step2 cost:0.759s\n",
      "step1 cost:0.975s\n"
     ]
    },
    {
     "output_type": "stream",
     "name": "stderr",
     "text": [
      " 50%|█████████████████████████████████████████████████████████████████████████▌                                                                         | 5/10 [00:10<00:10,  2.06s/it]"
     ]
    },
    {
     "output_type": "stream",
     "name": "stdout",
     "text": [
      "step2 cost:0.731s\n",
      "step1 cost:0.848s\n"
     ]
    },
    {
     "output_type": "stream",
     "name": "stderr",
     "text": [
      " 60%|████████████████████████████████████████████████████████████████████████████████████████▏                                                          | 6/10 [00:12<00:08,  2.03s/it]"
     ]
    },
    {
     "output_type": "stream",
     "name": "stdout",
     "text": [
      "step2 cost:0.752s\n",
      "step1 cost:0.793s\n"
     ]
    },
    {
     "output_type": "stream",
     "name": "stderr",
     "text": [
      " 70%|██████████████████████████████████████████████████████████████████████████████████████████████████████▉                                            | 7/10 [00:14<00:06,  2.03s/it]"
     ]
    },
    {
     "output_type": "stream",
     "name": "stdout",
     "text": [
      "step2 cost:0.851s\n",
      "step1 cost:0.875s\n"
     ]
    },
    {
     "output_type": "stream",
     "name": "stderr",
     "text": [
      " 80%|█████████████████████████████████████████████████████████████████████████████████████████████████████████████████████▌                             | 8/10 [00:16<00:04,  2.03s/it]"
     ]
    },
    {
     "output_type": "stream",
     "name": "stdout",
     "text": [
      "step2 cost:0.838s\n",
      "step1 cost:0.834s\n"
     ]
    },
    {
     "output_type": "stream",
     "name": "stderr",
     "text": [
      " 90%|████████████████████████████████████████████████████████████████████████████████████████████████████████████████████████████████████▎              | 9/10 [00:18<00:02,  2.05s/it]"
     ]
    },
    {
     "output_type": "stream",
     "name": "stdout",
     "text": [
      "step2 cost:0.908s\n",
      "step1 cost:0.902s\n"
     ]
    },
    {
     "output_type": "stream",
     "name": "stderr",
     "text": [
      "100%|██████████████████████████████████████████████████████████████████████████████████████████████████████████████████████████████████████████████████| 10/10 [00:20<00:00,  2.06s/it]"
     ]
    },
    {
     "output_type": "stream",
     "name": "stdout",
     "text": [
      "step2 cost:0.818s\n"
     ]
    },
    {
     "output_type": "stream",
     "name": "stderr",
     "text": [
      "\n"
     ]
    },
    {
     "output_type": "display_data",
     "data": {
      "image/png": "[encoded data removed]",
      "text/plain": [
       "<Figure size 432x288 with 1 Axes>"
      ]
     },
     "metadata": {
      "needs_background": "light"
     }
    }
   ],
   "metadata": {}
  },
  {
   "cell_type": "code",
   "execution_count": null,
   "source": [],
   "outputs": [],
   "metadata": {}
  }
 ],
 "metadata": {
  "kernelspec": {
   "display_name": "Python 3 (ipykernel)",
   "language": "python",
   "name": "python3"
  },
  "language_info": {
   "codemirror_mode": {
    "name": "ipython",
    "version": 3
   },
   "file_extension": ".py",
   "mimetype": "text/x-python",
   "name": "python",
   "nbconvert_exporter": "python",
   "pygments_lexer": "ipython3",
   "version": "3.9.6"
  }
 },
 "nbformat": 4,
 "nbformat_minor": 5
}